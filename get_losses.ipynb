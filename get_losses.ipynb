{
 "cells": [
  {
   "cell_type": "code",
   "execution_count": 11,
   "metadata": {},
   "outputs": [],
   "source": [
    "import pandas as pd\n",
    "import os\n",
    "import csv\n",
    "import matplotlib.pyplot as plt\n",
    "import numpy as np\n",
    "from tqdm import tqdm"
   ]
  },
  {
   "cell_type": "code",
   "execution_count": 2,
   "metadata": {},
   "outputs": [],
   "source": [
    "data_dir = './train'"
   ]
  },
  {
   "cell_type": "code",
   "execution_count": 3,
   "metadata": {},
   "outputs": [
    {
     "name": "stdout",
     "output_type": "stream",
     "text": [
      "['shakespeare_rnn_512_128_0.txt', 'shakespeare_lstm_256_256_0.2.txt', 'shakespeare_rnn_128_128_0.txt', 'shakespeare_gru_512_128_0.2.txt', 'shakespeare_gru_256_64_0.txt', 'shakespeare_rnn_256_128_0.2.txt', 'shakespeare_gru_512_256_0.2.txt', 'shakespeare_gru_128_64_0.5.txt', 'shakespeare_gru_512_64_0.5.txt', 'shakespeare_rnn_128_256_0.txt', 'shakespeare_rnn_256_64_0.txt', 'shakespeare_lstm_512_256_0.2.txt', 'shakespeare_lstm_256_64_0.2.txt', 'shakespeare_gru_256_256_0.txt', 'shakespeare_rnn_128_64_0.txt', 'shakespeare_rnn_128_256_0.5.txt', 'shakespeare_rnn_128_256_0.2.txt', 'shakespeare_lstm_128_64_0.txt', 'shakespeare_gru_128_256_0.txt', 'shakespeare_lstm_512_128_0.5.txt', 'shakespeare_rnn_128_64_0.5.txt', 'shakespeare_rnn_512_256_0.5.txt', 'shakespeare_rnn_512_256_0.2.txt', 'shakespeare_rnn_128_128_0.2.txt', 'shakespeare_lstm_128_128_0.2.txt', 'shakespeare_gru_256_64_0.5.txt', 'shakespeare_lstm_128_128_0.5.txt', 'shakespeare_gru_128_64_0.2.txt', 'shakespeare_lstm_256_128_0.txt', 'shakespeare_rnn_512_64_0.2.txt', 'shakespeare_rnn_512_128_0.2.txt', 'shakespeare_gru_256_256_0.2.txt', 'shakespeare_lstm_512_128_0.2.txt', 'shakespeare_gru_512_256_0.txt', 'shakespeare_lstm_128_128_0.txt', 'shakespeare_gru_128_64_0.txt', 'shakespeare_rnn_512_64_0.txt', 'shakespeare_lstm_256_128_0.2.txt', 'shakespeare_rnn_256_256_0.2.txt', 'shakespeare_rnn_512_64_0.5.txt', 'shakespeare_rnn_512_128_0.5.txt', 'shakespeare_gru_256_256_0.5.txt', 'shakespeare_lstm_512_256_0.txt', 'shakespeare_rnn_256_256_0.txt', 'shakespeare_gru_256_64_0.2.txt', 'shakespeare_lstm_256_128_0.5.txt', 'shakespeare_gru_128_128_0.txt', 'shakespeare_lstm_512_64_0.txt', 'shakespeare_gru_512_128_0.txt', 'shakespeare_lstm_256_256_0.5.txt', 'shakespeare_lstm_512_256_0.5.txt', 'shakespeare_gru_128_128_0.5.txt', 'shakespeare_lstm_256_256_0.txt', 'shakespeare_gru_256_128_0.5.txt', 'shakespeare_gru_256_128_0.txt', 'shakespeare_rnn_128_64_0.2.txt', 'shakespeare_lstm_128_256_0.5.txt', 'shakespeare_gru_128_256_0.5.txt', 'shakespeare_rnn_256_64_0.5.txt', 'shakespeare_lstm_128_64_0.5.txt', 'shakespeare_lstm_128_256_0.2.txt', 'shakespeare_rnn_512_256_0.txt', 'shakespeare_gru_256_128_0.2.txt', 'shakespeare_rnn_256_128_0.txt', 'shakespeare_rnn_128_128_0.5.txt', 'shakespeare_gru_512_128_0.5.txt', 'shakespeare_lstm_512_128_0.txt', 'shakespeare_gru_128_256_0.2.txt', 'shakespeare_lstm_128_64_0.2.txt', 'shakespeare_lstm_256_64_0.txt', 'shakespeare_rnn_256_64_0.2.txt', 'shakespeare_gru_512_64_0.2.txt', 'shakespeare_lstm_256_64_0.5.txt', 'shakespeare_gru_512_256_0.5.txt', 'shakespeare_lstm_512_64_0.2.txt', 'shakespeare_gru_128_128_0.2.txt', 'shakespeare_rnn_256_256_0.5.txt', 'shakespeare_lstm_128_256_0.txt', 'shakespeare_gru_512_64_0.txt', 'shakespeare_lstm_512_64_0.5.txt', 'shakespeare_rnn_256_128_0.5.txt']\n"
     ]
    }
   ],
   "source": [
    "files = [file for file in os.listdir(data_dir) if file.endswith('.txt') ]\n",
    "print(files)"
   ]
  },
  {
   "cell_type": "code",
   "execution_count": 4,
   "metadata": {},
   "outputs": [
    {
     "name": "stdout",
     "output_type": "stream",
     "text": [
      "['shakespeare_rnn_512_128_0.txt']\n"
     ]
    }
   ],
   "source": [
    "print(files[0:1])"
   ]
  },
  {
   "cell_type": "code",
   "execution_count": 47,
   "metadata": {},
   "outputs": [
    {
     "name": "stderr",
     "output_type": "stream",
     "text": [
      "100%|██████████| 81/81 [00:00<00:00, 157.23it/s]\n"
     ]
    }
   ],
   "source": [
    "val = {}\n",
    "for file in tqdm(files):\n",
    "    csv_file = file[:-4] + '.csv'\n",
    "    \n",
    "    with open(csv_file, 'w', newline='') as csvfile:\n",
    "        csv_writer = csv.writer(csvfile, delimiter=',')\n",
    "        csv_writer.writerow(['Loss'])\n",
    "        \n",
    "        path = os.path.join(data_dir, file)\n",
    "        reading = open(path, 'r')\n",
    "        while True:\n",
    "            line = reading.readline()\n",
    "            words = line.split()\n",
    "            if words and 'Running' not in words:\n",
    "                loss = words[-1]\n",
    "                if 'val_loss' not in words:\n",
    "                    csv_writer.writerow([loss])\n",
    "                else:\n",
    "                    val[csv_file] = float(loss)\n",
    "            if not line:\n",
    "                break\n",
    "        reading.close()\n",
    "    csvfile.close()"
   ]
  },
  {
   "cell_type": "code",
   "execution_count": 35,
   "metadata": {},
   "outputs": [
    {
     "data": {
      "text/html": [
       "<div>\n",
       "<style scoped>\n",
       "    .dataframe tbody tr th:only-of-type {\n",
       "        vertical-align: middle;\n",
       "    }\n",
       "\n",
       "    .dataframe tbody tr th {\n",
       "        vertical-align: top;\n",
       "    }\n",
       "\n",
       "    .dataframe thead th {\n",
       "        text-align: right;\n",
       "    }\n",
       "</style>\n",
       "<table border=\"1\" class=\"dataframe\">\n",
       "  <thead>\n",
       "    <tr style=\"text-align: right;\">\n",
       "      <th></th>\n",
       "      <th>Loss</th>\n",
       "    </tr>\n",
       "  </thead>\n",
       "  <tbody>\n",
       "    <tr>\n",
       "      <th>0</th>\n",
       "      <td>4.226854</td>\n",
       "    </tr>\n",
       "    <tr>\n",
       "      <th>1</th>\n",
       "      <td>3.772872</td>\n",
       "    </tr>\n",
       "    <tr>\n",
       "      <th>2</th>\n",
       "      <td>3.457403</td>\n",
       "    </tr>\n",
       "    <tr>\n",
       "      <th>3</th>\n",
       "      <td>3.261784</td>\n",
       "    </tr>\n",
       "    <tr>\n",
       "      <th>4</th>\n",
       "      <td>3.094563</td>\n",
       "    </tr>\n",
       "  </tbody>\n",
       "</table>\n",
       "</div>"
      ],
      "text/plain": [
       "       Loss\n",
       "0  4.226854\n",
       "1  3.772872\n",
       "2  3.457403\n",
       "3  3.261784\n",
       "4  3.094563"
      ]
     },
     "execution_count": 35,
     "metadata": {},
     "output_type": "execute_result"
    }
   ],
   "source": [
    "df = pd.read_csv(files[0].replace('.txt', '.csv'))\n",
    "df.head()"
   ]
  },
  {
   "cell_type": "code",
   "execution_count": 36,
   "metadata": {},
   "outputs": [
    {
     "name": "stdout",
     "output_type": "stream",
     "text": [
      "['shakespeare_lstm_128_128_0.2.csv', 'shakespeare_lstm_512_128_0.csv', 'shakespeare_rnn_256_128_0.2.csv', 'shakespeare_rnn_128_128_0.5.csv', 'shakespeare_gru_128_128_0.5.csv', 'shakespeare_lstm_256_128_0.csv', 'shakespeare_rnn_128_64_0.5.csv', 'shakespeare_lstm_512_256_0.2.csv', 'shakespeare_rnn_128_128_0.2.csv', 'shakespeare_gru_128_64_0.5.csv', 'shakespeare_rnn_128_256_0.5.csv', 'shakespeare_lstm_256_128_0.5.csv', 'shakespeare_lstm_128_64_0.csv', 'shakespeare_gru_256_256_0.2.csv', 'shakespeare_rnn_512_64_0.csv', 'shakespeare_gru_512_256_0.csv', 'shakespeare_gru_512_256_0.5.csv', 'shakespeare_lstm_512_64_0.2.csv', 'shakespeare_gru_512_256_0.2.csv', 'shakespeare_gru_256_128_0.2.csv', 'shakespeare_rnn_256_128_0.csv', 'shakespeare_lstm_512_64_0.5.csv', 'shakespeare_gru_128_64_0.csv', 'shakespeare_gru_256_64_0.csv', 'shakespeare_lstm_256_64_0.5.csv', 'shakespeare_gru_128_256_0.5.csv', 'shakespeare_lstm_128_128_0.5.csv', 'shakespeare_rnn_512_128_0.csv', 'shakespeare_gru_256_128_0.5.csv', 'shakespeare_rnn_256_64_0.2.csv', 'shakespeare_gru_512_128_0.5.csv', 'shakespeare_lstm_256_64_0.csv', 'shakespeare_gru_128_64_0.2.csv', 'shakespeare_gru_128_128_0.2.csv', 'shakespeare_rnn_512_64_0.5.csv', 'shakespeare_lstm_256_64_0.2.csv', 'shakespeare_lstm_512_256_0.5.csv', 'shakespeare_gru_128_256_0.2.csv', 'shakespeare_rnn_512_256_0.csv', 'shakespeare_lstm_256_256_0.csv', 'shakespeare_gru_512_64_0.5.csv', 'shakespeare_lstm_256_256_0.2.csv', 'shakespeare_lstm_512_256_0.csv', 'shakespeare_lstm_128_128_0.csv', 'shakespeare_rnn_128_64_0.csv', 'shakespeare_gru_512_64_0.csv', 'shakespeare_rnn_128_64_0.2.csv', 'shakespeare_lstm_128_256_0.5.csv', 'shakespeare_rnn_512_128_0.2.csv', 'shakespeare_rnn_128_128_0.csv', 'shakespeare_lstm_512_128_0.5.csv', 'shakespeare_lstm_128_256_0.2.csv', 'shakespeare_gru_256_64_0.2.csv', 'shakespeare_lstm_256_256_0.5.csv', 'shakespeare_rnn_128_256_0.csv', 'shakespeare_rnn_256_128_0.5.csv', 'shakespeare_lstm_128_64_0.5.csv', 'shakespeare_gru_512_128_0.csv', 'shakespeare_rnn_512_256_0.2.csv', 'shakespeare_rnn_256_256_0.2.csv', 'shakespeare_lstm_128_256_0.csv', 'shakespeare_gru_256_256_0.csv', 'shakespeare_rnn_128_256_0.2.csv', 'shakespeare_lstm_256_128_0.2.csv', 'shakespeare_rnn_512_64_0.2.csv', 'shakespeare_gru_512_64_0.2.csv', 'shakespeare_gru_128_256_0.csv', 'shakespeare_lstm_512_64_0.csv', 'shakespeare_rnn_256_256_0.5.csv', 'shakespeare_gru_512_128_0.2.csv', 'shakespeare_gru_128_128_0.csv', 'shakespeare_rnn_512_128_0.5.csv', 'shakespeare_rnn_512_256_0.5.csv', 'shakespeare_rnn_256_256_0.csv', 'shakespeare_gru_256_64_0.5.csv', 'shakespeare_lstm_128_64_0.2.csv', 'shakespeare_rnn_256_64_0.5.csv', 'shakespeare_gru_256_256_0.5.csv', 'shakespeare_rnn_256_64_0.csv', 'shakespeare_gru_256_128_0.csv', 'shakespeare_lstm_512_128_0.2.csv']\n"
     ]
    }
   ],
   "source": [
    "csv_results = [file for file in os.listdir('.') if file.endswith('.csv')]\n",
    "print(csv_results)"
   ]
  },
  {
   "cell_type": "code",
   "execution_count": 37,
   "metadata": {},
   "outputs": [
    {
     "name": "stdout",
     "output_type": "stream",
     "text": [
      "['shakespeare_rnn_256_128_0.2.csv', 'shakespeare_rnn_128_128_0.5.csv', 'shakespeare_rnn_128_64_0.5.csv', 'shakespeare_rnn_128_128_0.2.csv', 'shakespeare_rnn_128_256_0.5.csv', 'shakespeare_rnn_512_64_0.csv', 'shakespeare_rnn_256_128_0.csv', 'shakespeare_rnn_512_128_0.csv', 'shakespeare_rnn_256_64_0.2.csv', 'shakespeare_rnn_512_64_0.5.csv', 'shakespeare_rnn_512_256_0.csv', 'shakespeare_rnn_128_64_0.csv', 'shakespeare_rnn_128_64_0.2.csv', 'shakespeare_rnn_512_128_0.2.csv', 'shakespeare_rnn_128_128_0.csv', 'shakespeare_rnn_128_256_0.csv', 'shakespeare_rnn_256_128_0.5.csv', 'shakespeare_rnn_512_256_0.2.csv', 'shakespeare_rnn_256_256_0.2.csv', 'shakespeare_rnn_128_256_0.2.csv', 'shakespeare_rnn_512_64_0.2.csv', 'shakespeare_rnn_256_256_0.5.csv', 'shakespeare_rnn_512_128_0.5.csv', 'shakespeare_rnn_512_256_0.5.csv', 'shakespeare_rnn_256_256_0.csv', 'shakespeare_rnn_256_64_0.5.csv', 'shakespeare_rnn_256_64_0.csv']\n",
      "['shakespeare_lstm_128_128_0.2.csv', 'shakespeare_lstm_512_128_0.csv', 'shakespeare_lstm_256_128_0.csv', 'shakespeare_lstm_512_256_0.2.csv', 'shakespeare_lstm_256_128_0.5.csv', 'shakespeare_lstm_128_64_0.csv', 'shakespeare_lstm_512_64_0.2.csv', 'shakespeare_lstm_512_64_0.5.csv', 'shakespeare_lstm_256_64_0.5.csv', 'shakespeare_lstm_128_128_0.5.csv', 'shakespeare_lstm_256_64_0.csv', 'shakespeare_lstm_256_64_0.2.csv', 'shakespeare_lstm_512_256_0.5.csv', 'shakespeare_lstm_256_256_0.csv', 'shakespeare_lstm_256_256_0.2.csv', 'shakespeare_lstm_512_256_0.csv', 'shakespeare_lstm_128_128_0.csv', 'shakespeare_lstm_128_256_0.5.csv', 'shakespeare_lstm_512_128_0.5.csv', 'shakespeare_lstm_128_256_0.2.csv', 'shakespeare_lstm_256_256_0.5.csv', 'shakespeare_lstm_128_64_0.5.csv', 'shakespeare_lstm_128_256_0.csv', 'shakespeare_lstm_256_128_0.2.csv', 'shakespeare_lstm_512_64_0.csv', 'shakespeare_lstm_128_64_0.2.csv', 'shakespeare_lstm_512_128_0.2.csv']\n",
      "['shakespeare_gru_128_128_0.5.csv', 'shakespeare_gru_128_64_0.5.csv', 'shakespeare_gru_256_256_0.2.csv', 'shakespeare_gru_512_256_0.csv', 'shakespeare_gru_512_256_0.5.csv', 'shakespeare_gru_512_256_0.2.csv', 'shakespeare_gru_256_128_0.2.csv', 'shakespeare_gru_128_64_0.csv', 'shakespeare_gru_256_64_0.csv', 'shakespeare_gru_128_256_0.5.csv', 'shakespeare_gru_256_128_0.5.csv', 'shakespeare_gru_512_128_0.5.csv', 'shakespeare_gru_128_64_0.2.csv', 'shakespeare_gru_128_128_0.2.csv', 'shakespeare_gru_128_256_0.2.csv', 'shakespeare_gru_512_64_0.5.csv', 'shakespeare_gru_512_64_0.csv', 'shakespeare_gru_256_64_0.2.csv', 'shakespeare_gru_512_128_0.csv', 'shakespeare_gru_256_256_0.csv', 'shakespeare_gru_512_64_0.2.csv', 'shakespeare_gru_128_256_0.csv', 'shakespeare_gru_512_128_0.2.csv', 'shakespeare_gru_128_128_0.csv', 'shakespeare_gru_256_64_0.5.csv', 'shakespeare_gru_256_256_0.5.csv', 'shakespeare_gru_256_128_0.csv']\n"
     ]
    }
   ],
   "source": [
    "rnn = []\n",
    "lstm = []\n",
    "gru = []\n",
    "for csv_file in csv_results:\n",
    "    parts = csv_file[:-4].split('_')\n",
    "    if parts[1] == 'rnn':\n",
    "        rnn.append(csv_file)\n",
    "    elif parts[1] == 'lstm':\n",
    "        lstm.append(csv_file)\n",
    "    elif parts[1] == 'gru':\n",
    "        gru.append(csv_file)\n",
    "print(rnn)\n",
    "print(lstm)\n",
    "print(gru)"
   ]
  },
  {
   "cell_type": "code",
   "execution_count": 59,
   "metadata": {},
   "outputs": [
    {
     "name": "stderr",
     "output_type": "stream",
     "text": [
      "100%|██████████| 27/27 [00:00<00:00, 319.82it/s]"
     ]
    },
    {
     "name": "stdout",
     "output_type": "stream",
     "text": [
      "Best Train Loss: 1.097148 with shakespeare_rnn_512_64_0.csv\n",
      "Val Loss: 1.5246731814216\n",
      "------------------------------------------------------------\n",
      "Best Val Loss: 1.458284676075 with shakespeare_rnn_512_128_0.2.csv\n",
      "Train Loss: 1.380923\n"
     ]
    },
    {
     "name": "stderr",
     "output_type": "stream",
     "text": [
      "\n"
     ]
    }
   ],
   "source": [
    "min_t_loss = 999\n",
    "min_t = ''\n",
    "min_v_loss = 999\n",
    "min_v = ''\n",
    "train = {}\n",
    "for csv_file in tqdm(rnn):\n",
    "    df = pd.read_csv(csv_file)\n",
    "#     plt.title(csv_file)\n",
    "#     plt.plot(df['Loss'])\n",
    "#     plt.grid()\n",
    "#     plt.ylim(0, 5)\n",
    "#     plt.xlabel('Iterations')\n",
    "#     plt.ylabel('Loss')\n",
    "#     plt.show()\n",
    "    train_loss = df['Loss'].iloc[-1]\n",
    "    train[csv_file] = float(train_loss)\n",
    "    val_loss = val[csv_file]\n",
    "#     print('Final Loss: ' + str(loss))\n",
    "    if train_loss < min_t_loss:\n",
    "        min_t_loss = train_loss\n",
    "        min_t = csv_file\n",
    "    if val_loss < min_v_loss:\n",
    "        min_v_loss = val_loss\n",
    "        min_v = csv_file\n",
    "print('Best Train Loss: ' + str(min_t_loss) + ' with ' + str(min_t))\n",
    "print('Val Loss: ' + str(val[min_t]))\n",
    "print('------------------------------------------------------------')\n",
    "print('Best Val Loss: ' + str(min_v_loss) + ' with ' + str(min_v))\n",
    "print('Train Loss: ' + str(train[min_v]))"
   ]
  },
  {
   "cell_type": "code",
   "execution_count": 60,
   "metadata": {},
   "outputs": [
    {
     "name": "stderr",
     "output_type": "stream",
     "text": [
      "100%|██████████| 27/27 [00:00<00:00, 284.46it/s]"
     ]
    },
    {
     "name": "stdout",
     "output_type": "stream",
     "text": [
      "Best Train Loss: 0.566175 with shakespeare_lstm_512_64_0.csv\n",
      "Val Loss: 1.8788809565937\n",
      "------------------------------------------------------------\n",
      "Best Val Loss: 1.3852680027485 with shakespeare_lstm_512_128_0.2.csv\n",
      "Train Loss: 1.10563\n"
     ]
    },
    {
     "name": "stderr",
     "output_type": "stream",
     "text": [
      "\n"
     ]
    }
   ],
   "source": [
    "min_t_loss = 999\n",
    "min_t = ''\n",
    "min_v_loss = 999\n",
    "min_v = ''\n",
    "train = {}\n",
    "for csv_file in tqdm(lstm):\n",
    "    df = pd.read_csv(csv_file)\n",
    "#     plt.title(csv_file)\n",
    "#     plt.plot(df['Loss'])\n",
    "#     plt.grid()\n",
    "#     plt.ylim(0, 5)\n",
    "#     plt.xlabel('Iterations')\n",
    "#     plt.ylabel('Loss')\n",
    "#     plt.show()\n",
    "    train_loss = df['Loss'].iloc[-1]\n",
    "    train[csv_file] = float(train_loss)\n",
    "    val_loss = val[csv_file]\n",
    "#     print('Final Loss: ' + str(loss))\n",
    "    if train_loss < min_t_loss:\n",
    "        min_t_loss = train_loss\n",
    "        min_t = csv_file\n",
    "    if val_loss < min_v_loss:\n",
    "        min_v_loss = val_loss\n",
    "        min_v = csv_file\n",
    "print('Best Train Loss: ' + str(min_t_loss) + ' with ' + str(min_t))\n",
    "print('Val Loss: ' + str(val[min_t]))\n",
    "print('------------------------------------------------------------')\n",
    "print('Best Val Loss: ' + str(min_v_loss) + ' with ' + str(min_v))\n",
    "print('Train Loss: ' + str(train[min_v]))"
   ]
  },
  {
   "cell_type": "code",
   "execution_count": 61,
   "metadata": {},
   "outputs": [
    {
     "name": "stderr",
     "output_type": "stream",
     "text": [
      "100%|██████████| 27/27 [00:00<00:00, 256.72it/s]"
     ]
    },
    {
     "name": "stdout",
     "output_type": "stream",
     "text": [
      "Best Train Loss: 0.44805600000000007 with shakespeare_gru_512_64_0.csv\n",
      "Val Loss: 2.2938063986161\n",
      "------------------------------------------------------------\n",
      "Best Val Loss: 1.4172785431147 with shakespeare_gru_512_128_0.5.csv\n",
      "Train Loss: 1.277773\n"
     ]
    },
    {
     "name": "stderr",
     "output_type": "stream",
     "text": [
      "\n"
     ]
    }
   ],
   "source": [
    "min_t_loss = 999\n",
    "min_t = ''\n",
    "min_v_loss = 999\n",
    "min_v = ''\n",
    "train = {}\n",
    "for csv_file in tqdm(gru):\n",
    "    df = pd.read_csv(csv_file)\n",
    "#     plt.title(csv_file)\n",
    "#     plt.plot(df['Loss'])\n",
    "#     plt.grid()\n",
    "#     plt.ylim(0, 5)\n",
    "#     plt.xlabel('Iterations')\n",
    "#     plt.ylabel('Loss')\n",
    "#     plt.show()\n",
    "    train_loss = df['Loss'].iloc[-1]\n",
    "    train[csv_file] = float(train_loss)\n",
    "    val_loss = val[csv_file]\n",
    "#     print('Final Loss: ' + str(loss))\n",
    "    if train_loss < min_t_loss:\n",
    "        min_t_loss = train_loss\n",
    "        min_t = csv_file\n",
    "    if val_loss < min_v_loss:\n",
    "        min_v_loss = val_loss\n",
    "        min_v = csv_file\n",
    "print('Best Train Loss: ' + str(min_t_loss) + ' with ' + str(min_t))\n",
    "print('Val Loss: ' + str(val[min_t]))\n",
    "print('------------------------------------------------------------')\n",
    "print('Best Val Loss: ' + str(min_v_loss) + ' with ' + str(min_v))\n",
    "print('Train Loss: ' + str(train[min_v]))"
   ]
  },
  {
   "cell_type": "code",
   "execution_count": null,
   "metadata": {},
   "outputs": [],
   "source": []
  }
 ],
 "metadata": {
  "kernelspec": {
   "display_name": "Python 3",
   "language": "python",
   "name": "python3"
  },
  "language_info": {
   "codemirror_mode": {
    "name": "ipython",
    "version": 3
   },
   "file_extension": ".py",
   "mimetype": "text/x-python",
   "name": "python",
   "nbconvert_exporter": "python",
   "pygments_lexer": "ipython3",
   "version": "3.7.3"
  }
 },
 "nbformat": 4,
 "nbformat_minor": 2
}
